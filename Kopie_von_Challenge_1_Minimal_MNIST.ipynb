{
  "nbformat": 4,
  "nbformat_minor": 5,
  "metadata": {
    "celltoolbar": "Slideshow",
    "kernelspec": {
      "display_name": "Python 3",
      "language": "python",
      "name": "python3"
    },
    "language_info": {
      "codemirror_mode": {
        "name": "ipython",
        "version": 3
      },
      "file_extension": ".py",
      "mimetype": "text/x-python",
      "name": "python",
      "nbconvert_exporter": "python",
      "pygments_lexer": "ipython3",
      "version": "3.8.3"
    },
    "rise": {
      "auto_select": "none",
      "enable_chalkboard": true,
      "overlay": "<div class='myheader'><img src='img/ai_camp.png' class='ifis_small'></div><div class='ifis_large'><img src='img/ifis_large.png'></div>",
      "scroll": true,
      "start_slideshow_at": "selected"
    },
    "colab": {
      "name": "Kopie von Challenge 1 Minimal MNIST.ipynb",
      "provenance": [],
      "include_colab_link": true
    }
  },
  "cells": [
    {
      "cell_type": "markdown",
      "metadata": {
        "id": "view-in-github",
        "colab_type": "text"
      },
      "source": [
        "<a href=\"https://colab.research.google.com/github/JulianRichter/ZhuNet/blob/master/Kopie_von_Challenge_1_Minimal_MNIST.ipynb\" target=\"_parent\"><img src=\"https://colab.research.google.com/assets/colab-badge.svg\" alt=\"Open In Colab\"/></a>"
      ]
    },
    {
      "cell_type": "markdown",
      "metadata": {
        "id": "solid-marine"
      },
      "source": [
        "# Challenge 1: Minimal MNIST\n",
        "***\n",
        "The idea is straightforward:\n",
        "* Train the smallest possible neural network using `keras`\n",
        "    * achieving at least $90\\%$ accuracy\n",
        "\n",
        "You will be provided with code:\n",
        "* `get_data()`: Returning `x_train`, `y_train`, `x_test` and `y_test`\n",
        "    * Please only use the `_train` data to train. Anything else will lead to disqualification\n",
        "* `evaluate_model(model)` returning `acc` and `num_weights`\n",
        "    * `acc`: the accuracy, e.g. $0.95$\n",
        "    * `num_weights`: the number of parameters you used in your model"
      ],
      "id": "solid-marine"
    },
    {
      "cell_type": "markdown",
      "metadata": {
        "id": "inclusive-johns"
      },
      "source": [
        "# Where to post the results\n",
        "***\n",
        "We don't have a fully automized leaderboard for our challenges (yet)\n",
        "* Please use our Discord server to post your results\n",
        "    * https://discord.gg/77uHPAMt\n",
        "        * Channel: \"results-challenge-1\"\n",
        "\n",
        "We will ask notable solutions to be presented in the next lecture!"
      ],
      "id": "inclusive-johns"
    },
    {
      "cell_type": "markdown",
      "metadata": {
        "id": "upper-france"
      },
      "source": [
        "# Data & Evaluation code\n",
        "***"
      ],
      "id": "upper-france"
    },
    {
      "cell_type": "code",
      "metadata": {
        "id": "dated-highlight"
      },
      "source": [
        "from tensorflow import keras\n",
        "\n",
        "def evaluate_model(model, x_test, y_test):\n",
        "    num_weights = model.count_params()\n",
        "    acc_metric = keras.metrics.CategoricalAccuracy()\n",
        "    out = model(x_test)\n",
        "    acc_metric.update_state(y_test, out)\n",
        "    acc = acc_metric.result().numpy()\n",
        "    return {\"Test accuracy\":acc, \"Number of parameters\":num_weights}\n",
        "\n",
        "def get_data():\n",
        "    (x_train, y_train), (x_test, y_test) = keras.datasets.mnist.load_data()\n",
        "    y_train = keras.utils.to_categorical(y_train)\n",
        "    y_test = keras.utils.to_categorical(y_test)\n",
        "\n",
        "    return x_train, y_train, x_test, y_test"
      ],
      "id": "dated-highlight",
      "execution_count": null,
      "outputs": []
    },
    {
      "cell_type": "markdown",
      "metadata": {
        "id": "technological-novelty"
      },
      "source": [
        "# An example to get you started\n",
        "***\n",
        "First, load the data"
      ],
      "id": "technological-novelty"
    },
    {
      "cell_type": "code",
      "metadata": {
        "id": "postal-hello"
      },
      "source": [
        "x_train, y_train, x_test, y_test = get_data()"
      ],
      "id": "postal-hello",
      "execution_count": null,
      "outputs": []
    },
    {
      "cell_type": "markdown",
      "metadata": {
        "id": "latest-prediction"
      },
      "source": [
        "Next, set up a simple Multi-layer perceptron"
      ],
      "id": "latest-prediction"
    },
    {
      "cell_type": "code",
      "metadata": {
        "scrolled": false,
        "id": "outdoor-karen"
      },
      "source": [
        "input_layer = keras.layers.Input((28,28,))\n",
        "l = input_layer\n",
        "l = keras.layers.Flatten()(l)\n",
        "for i in range(3):\n",
        "    l = keras.layers.Dense(256,activation=\"relu\")(l)\n",
        "l = keras.layers.Dense(10,\"softmax\")(l)\n",
        "\n",
        "model = keras.models.Model(input_layer, l)\n",
        "model.compile(\"SGD\", \"MSE\", [\"accuracy\"])\n",
        "model.summary(50)"
      ],
      "id": "outdoor-karen",
      "execution_count": null,
      "outputs": []
    },
    {
      "cell_type": "markdown",
      "metadata": {
        "id": "wrapped-confirmation"
      },
      "source": [
        "Train the network on the given data"
      ],
      "id": "wrapped-confirmation"
    },
    {
      "cell_type": "code",
      "metadata": {
        "scrolled": false,
        "id": "increasing-carol"
      },
      "source": [
        "_ = model.fit(x_train, y_train, epochs=10, batch_size=256, verbose=1)"
      ],
      "id": "increasing-carol",
      "execution_count": null,
      "outputs": []
    },
    {
      "cell_type": "markdown",
      "metadata": {
        "id": "informed-process"
      },
      "source": [
        "Run the final evaluation for our challenge"
      ],
      "id": "informed-process"
    },
    {
      "cell_type": "code",
      "metadata": {
        "scrolled": false,
        "id": "automotive-bennett"
      },
      "source": [
        "print(evaluate_model(model, x_test, y_test))"
      ],
      "id": "automotive-bennett",
      "execution_count": null,
      "outputs": []
    },
    {
      "cell_type": "markdown",
      "metadata": {
        "id": "arranged-mechanics"
      },
      "source": [
        "### Good luck!\n",
        "You will need it ;)"
      ],
      "id": "arranged-mechanics"
    },
    {
      "cell_type": "markdown",
      "metadata": {
        "id": "unknown-camel"
      },
      "source": [
        "# Hints\n",
        "***\n",
        "To obtain competitive results:\n",
        "* Try out many different layers\n",
        "    * And activation functions\n",
        "* Check the different kinds of optimizers available\n",
        "    * And the losses\n",
        "* Read articles & talk to your colleagues!"
      ],
      "id": "unknown-camel"
    }
  ]
}